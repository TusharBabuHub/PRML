{
 "cells": [
  {
   "cell_type": "markdown",
   "id": "6df9c92f",
   "metadata": {
    "_cell_guid": "b1076dfc-b9ad-4769-8c92-a6c4dae69d19",
    "_uuid": "8f2839f25d086af736a60e9eeb907d3b93b6e0e5",
    "execution": {
     "iopub.execute_input": "2022-08-24T16:50:29.480810Z",
     "iopub.status.busy": "2022-08-24T16:50:29.480058Z",
     "iopub.status.idle": "2022-08-24T16:50:29.487087Z",
     "shell.execute_reply": "2022-08-24T16:50:29.486215Z",
     "shell.execute_reply.started": "2022-08-24T16:50:29.480768Z"
    },
    "papermill": {
     "duration": 0.009418,
     "end_time": "2022-08-25T11:26:50.630902",
     "exception": false,
     "start_time": "2022-08-25T11:26:50.621484",
     "status": "completed"
    },
    "tags": []
   },
   "source": [
    "### Problem Statement\n",
    "We have been hearing about the issue of different types of Full-Self Driving(FSD) technology in mobility domain and the one which has been in news has been predominantly Tesla. The primary objective for a vehicle while driving is to detect varied obstacles and efficiently cross them while following the rules of the road. The signals on the road helps in commuting from one place to another. The dataset we have here are a collation these signals on the road in images. We would use these images to identify the signals.\n",
    "\n",
    "### Data\n",
    "Data has been segregated into two separate folders. \"images\" folder has the collection of all these signal images on the road. \"annotations\" folder has an xml file corresponding to each \"image\" file. The xml file gives the details of the signals present on the image. It helps to locate the signals on the images. The signals are identified as one of the following four\n",
    "1. Speed Limit\n",
    "2. Cross Walk\n",
    "3. Traffic Light\n",
    "4. Stop Sign"
   ]
  },
  {
   "cell_type": "code",
   "execution_count": 1,
   "id": "7ee1308b",
   "metadata": {
    "execution": {
     "iopub.execute_input": "2022-08-25T11:26:50.647133Z",
     "iopub.status.busy": "2022-08-25T11:26:50.646583Z",
     "iopub.status.idle": "2022-08-25T11:26:50.660720Z",
     "shell.execute_reply": "2022-08-25T11:26:50.659734Z"
    },
    "papermill": {
     "duration": 0.025289,
     "end_time": "2022-08-25T11:26:50.663037",
     "exception": false,
     "start_time": "2022-08-25T11:26:50.637748",
     "status": "completed"
    },
    "tags": []
   },
   "outputs": [],
   "source": [
    "# This Python 3 environment comes with many helpful analytics libraries installed\n",
    "# It is defined by the kaggle/python Docker image: https://github.com/kaggle/docker-python\n",
    "# For example, here's several helpful packages to load\n",
    "\n",
    "import numpy as np # linear algebra\n",
    "import pandas as pd # data processing, CSV file I/O (e.g. pd.read_csv)\n",
    "\n",
    "# Input data files are available in the read-only \"../input/\" directory\n",
    "# For example, running this (by clicking run or pressing Shift+Enter) will list all files under the input directory\n",
    "\n",
    "import os\n",
    "#for dirname, _, filenames in os.walk('/kaggle/input'):\n",
    "#    for filename in filenames:\n",
    "#        print(os.path.join(dirname, filename))\n",
    "\n",
    "# You can write up to 20GB to the current directory (/kaggle/working/) that gets preserved as output when you create a version using \"Save & Run All\" \n",
    "# You can also write temporary files to /kaggle/temp/, but they won't be saved outside of the current session"
   ]
  },
  {
   "cell_type": "markdown",
   "id": "3c7ecde4",
   "metadata": {
    "papermill": {
     "duration": 0.006532,
     "end_time": "2022-08-25T11:26:50.676420",
     "exception": false,
     "start_time": "2022-08-25T11:26:50.669888",
     "status": "completed"
    },
    "tags": []
   },
   "source": [
    "To start with initialise the path of Images and Annotations and create a data frame of image data provided in xml kept in Annotations folder."
   ]
  },
  {
   "cell_type": "code",
   "execution_count": 2,
   "id": "37bff094",
   "metadata": {
    "execution": {
     "iopub.execute_input": "2022-08-25T11:26:50.692882Z",
     "iopub.status.busy": "2022-08-25T11:26:50.691926Z",
     "iopub.status.idle": "2022-08-25T11:26:50.709256Z",
     "shell.execute_reply": "2022-08-25T11:26:50.708180Z"
    },
    "papermill": {
     "duration": 0.029559,
     "end_time": "2022-08-25T11:26:50.712721",
     "exception": false,
     "start_time": "2022-08-25T11:26:50.683162",
     "status": "completed"
    },
    "tags": []
   },
   "outputs": [
    {
     "name": "stdout",
     "output_type": "stream",
     "text": [
      "Current Working directory: /kaggle/working\n",
      "Output Cropped Image directory: /kaggle/working/crop/\n",
      "Input base directory: /kaggle/input/road-sign-detection/\n",
      "Input Image directory: /kaggle/input/road-sign-detection/images/\n",
      "Input Annotations directory: /kaggle/input/road-sign-detection/annotations/\n"
     ]
    }
   ],
   "source": [
    "# Image paths\n",
    "img_base_out = os.getcwd()\n",
    "print(\"Current Working directory:\",img_base_out)\n",
    "img_crop_path_out = img_base_out + '/crop/'\n",
    "print(\"Output Cropped Image directory:\",img_crop_path_out)\n",
    "img_base_in = '/kaggle/input/road-sign-detection/'\n",
    "print(\"Input base directory:\",img_base_in)\n",
    "img_path_in = img_base_in + 'images/'\n",
    "print(\"Input Image directory:\",img_path_in)\n",
    "img_ann_path_in = img_base_in + 'annotations/'\n",
    "print(\"Input Annotations directory:\",img_ann_path_in)\n",
    "\n",
    "# Data Frame column header\n",
    "df_cols = ['ImgID', 'Width', 'Height', 'Type', 'xMin', 'yMin', 'xMax', 'yMax']\n",
    "\n",
    "# Initialise data frame for all files\n",
    "df_files = pd.DataFrame(columns=df_cols)\n"
   ]
  },
  {
   "cell_type": "markdown",
   "id": "ea3c04a5",
   "metadata": {
    "papermill": {
     "duration": 0.00659,
     "end_time": "2022-08-25T11:26:50.727278",
     "exception": false,
     "start_time": "2022-08-25T11:26:50.720688",
     "status": "completed"
    },
    "tags": []
   },
   "source": [
    "Get all the images and annotations in the directory\n",
    "Images are all in png format while annotations are xml format. xml files contain required metadata to read through the image"
   ]
  },
  {
   "cell_type": "code",
   "execution_count": 3,
   "id": "85e9e7e9",
   "metadata": {
    "execution": {
     "iopub.execute_input": "2022-08-25T11:26:50.743551Z",
     "iopub.status.busy": "2022-08-25T11:26:50.742705Z",
     "iopub.status.idle": "2022-08-25T11:26:51.005226Z",
     "shell.execute_reply": "2022-08-25T11:26:51.003557Z"
    },
    "papermill": {
     "duration": 0.275014,
     "end_time": "2022-08-25T11:26:51.009060",
     "exception": false,
     "start_time": "2022-08-25T11:26:50.734046",
     "status": "completed"
    },
    "tags": []
   },
   "outputs": [
    {
     "data": {
      "text/plain": [
       "['road732.xml', 'road518.xml', 'road717.xml', 'road362.xml', 'road492.xml']"
      ]
     },
     "execution_count": 3,
     "metadata": {},
     "output_type": "execute_result"
    }
   ],
   "source": [
    "# Initialise list of files\n",
    "list_of_files = []\n",
    "\n",
    "# Loop each xml file from annotation\n",
    "for dirname, _, filenames in os.walk(img_ann_path_in):\n",
    "    for file in filenames:\n",
    "        if (file.endswith(\".xml\")):\n",
    "            list_of_files.append(file)\n",
    "            \n",
    "list_of_files[:5]"
   ]
  },
  {
   "cell_type": "markdown",
   "id": "ecd706ff",
   "metadata": {
    "papermill": {
     "duration": 0.006767,
     "end_time": "2022-08-25T11:26:51.023366",
     "exception": false,
     "start_time": "2022-08-25T11:26:51.016599",
     "status": "completed"
    },
    "tags": []
   },
   "source": [
    "The annotation files give details of different signals available in the images. It also provides us with the boundary of these signals. \n",
    "With this, we can extract multiple images of different signals from the data of boundary provided in the annotation file for each image. To create a predictive model, we would need to convert images into tabular data to assess and predict upon. Further sections of code would talk about analysis of data and the actions being taken via the code."
   ]
  },
  {
   "cell_type": "code",
   "execution_count": 4,
   "id": "63ef3753",
   "metadata": {
    "execution": {
     "iopub.execute_input": "2022-08-25T11:26:51.039874Z",
     "iopub.status.busy": "2022-08-25T11:26:51.039015Z",
     "iopub.status.idle": "2022-08-25T11:26:51.044107Z",
     "shell.execute_reply": "2022-08-25T11:26:51.043134Z"
    },
    "papermill": {
     "duration": 0.016193,
     "end_time": "2022-08-25T11:26:51.046503",
     "exception": false,
     "start_time": "2022-08-25T11:26:51.030310",
     "status": "completed"
    },
    "tags": []
   },
   "outputs": [],
   "source": [
    "# Initialise the main image data array\n",
    "# Create 785 rows which will be used for row # 0\n",
    "img_data = [(0) for _ in range(785)]"
   ]
  },
  {
   "cell_type": "markdown",
   "id": "eabc8dd4",
   "metadata": {
    "papermill": {
     "duration": 0.006625,
     "end_time": "2022-08-25T11:26:51.060163",
     "exception": false,
     "start_time": "2022-08-25T11:26:51.053538",
     "status": "completed"
    },
    "tags": []
   },
   "source": [
    "#### Data Analysis\n",
    "* Images are all in png format\n",
    "* Each image is of different size\n",
    "* They may contain multiple signals of different sizes\n",
    "* Each image has a corressponding xml file which describes the different types of signal and their position in the image\n",
    "\n",
    "#### Further Actions\n",
    "* Extract the required data from xml file available for each image\n",
    "* Loop through each xml file and use the boundaries provided to crop the image and get just the signal image\n",
    "* Convert the image to a black and white image\n",
    "* Resize the images processed to 28 by 28 pixel dimension. This would create uniformity in the images and will help us in further conversion to an array\n",
    "* Save the processed images and segregate them based on signal type into different folders\n",
    "* Flatten the image data into array data so that we can use it for further prediction."
   ]
  },
  {
   "cell_type": "code",
   "execution_count": 5,
   "id": "75a67c31",
   "metadata": {
    "execution": {
     "iopub.execute_input": "2022-08-25T11:26:51.076762Z",
     "iopub.status.busy": "2022-08-25T11:26:51.075920Z",
     "iopub.status.idle": "2022-08-25T11:28:15.138276Z",
     "shell.execute_reply": "2022-08-25T11:28:15.136610Z"
    },
    "papermill": {
     "duration": 84.074908,
     "end_time": "2022-08-25T11:28:15.141993",
     "exception": false,
     "start_time": "2022-08-25T11:26:51.067085",
     "status": "completed"
    },
    "tags": []
   },
   "outputs": [],
   "source": [
    "import xml.etree.cElementTree as et\n",
    "from PIL import Image\n",
    "\n",
    "# Create directory for saving cropped images\n",
    "if not os.path.exists(img_crop_path_out):\n",
    "    os.mkdir(img_crop_path_out, mode=0o777)\n",
    "\n",
    "# Loop through each image to get all signals present in it\n",
    "for file in list_of_files:\n",
    "    img_ann_file = img_ann_path_in + file\n",
    "    # Read xml file\n",
    "    img_root = et.parse(img_ann_file)\n",
    "    filename = img_root.find('./filename').text\n",
    "    objects = img_root.findall('./object')\n",
    "    img_width = img_root.find('./size/width').text\n",
    "    img_height = img_root.find('./size/height').text\n",
    "\n",
    "    # Create xml nested table\n",
    "    img_xml_data = [[filename, img_width, img_height, obj.find('./name').text, obj.find('bndbox/xmin').text, obj.find(\n",
    "        'bndbox/ymin').text, obj.find('bndbox/xmax').text, obj.find('bndbox/ymax').text] for obj in objects]\n",
    "\n",
    "    # Create data frame out of the xml extracted data\n",
    "    df_xml = pd.DataFrame(img_xml_data, columns=df_cols)\n",
    "\n",
    "    # Append the new file into the main data frame\n",
    "    df_files = pd.concat([df_files,df_xml], axis=0)\n",
    "\n",
    "    # Open each image and read as balck and white\n",
    "    img = Image.open(img_path_in + filename).convert('L')\n",
    "\n",
    "    # Set image count incase each image has multiple signals\n",
    "    img_count = 0\n",
    "\n",
    "    # Loop through objects to get the boundary of signals in the image\n",
    "    for obj in objects:\n",
    "        xmin = int(obj.find('bndbox/xmin').text)\n",
    "        ymin = int(obj.find('bndbox/ymin').text)\n",
    "        xmax = int(obj.find('bndbox/xmax').text)\n",
    "        ymax = int(obj.find('bndbox/ymax').text)\n",
    "        img_type = obj.find('./name').text\n",
    "        img_count += 1\n",
    "\n",
    "        # Crop image and resize them to dimesions of 28 by 28 pixels\n",
    "        img_crop = img.crop((xmin, ymin, xmax, ymax)).resize((28,28))\n",
    "\n",
    "        # Make sub-directory for each signal type\n",
    "        if not os.path.exists(img_crop_path_out + img_type):\n",
    "            os.mkdir(img_crop_path_out + img_type, mode=0o777)\n",
    "\n",
    "        # Save the cropped image in the specified signal type folder\n",
    "        crop_filepath = img_crop_path_out + img_type + '/' + str(img_count) + \"_\" + filename\n",
    "        img_crop.save(crop_filepath)\n",
    "        \n",
    "        # Convert images into data\n",
    "        # a 28 by 28 array would be created\n",
    "        data = np.array(img_crop)\n",
    "        img_cnv = Image.fromarray(data.astype('uint8'))\n",
    "        img_cnv.save(crop_filepath)\n",
    "        \n",
    "        # Move the 28 rows into single row, which would create 784 columns\n",
    "        data_flatten = data.reshape((1,784))\n",
    "        \n",
    "        # Each row would signify an image which was cropped and converted\n",
    "        # Including a new column which indicates image file name\n",
    "        flnm_array = np.array([str(img_count) + \"_\" + filename.rstrip('.png')])\n",
    "        \n",
    "        # Add image name column to the array\n",
    "        data_flt = np.concatenate((flnm_array,data_flatten), axis = None)\n",
    "        \n",
    "        # Include the new image data into array of previously saved images\n",
    "        img_data = np.vstack((img_data,data_flt))"
   ]
  },
  {
   "cell_type": "markdown",
   "id": "5dc8834f",
   "metadata": {
    "papermill": {
     "duration": 0.007229,
     "end_time": "2022-08-25T11:28:15.158790",
     "exception": false,
     "start_time": "2022-08-25T11:28:15.151561",
     "status": "completed"
    },
    "tags": []
   },
   "source": [
    "#### Data Check\n",
    "View one of the cropped, resized and, discoloured images"
   ]
  },
  {
   "cell_type": "code",
   "execution_count": 6,
   "id": "c5d52f6d",
   "metadata": {
    "execution": {
     "iopub.execute_input": "2022-08-25T11:28:15.175754Z",
     "iopub.status.busy": "2022-08-25T11:28:15.175285Z",
     "iopub.status.idle": "2022-08-25T11:28:15.375865Z",
     "shell.execute_reply": "2022-08-25T11:28:15.374339Z"
    },
    "papermill": {
     "duration": 0.212533,
     "end_time": "2022-08-25T11:28:15.378840",
     "exception": false,
     "start_time": "2022-08-25T11:28:15.166307",
     "status": "completed"
    },
    "tags": []
   },
   "outputs": [
    {
     "data": {
      "text/plain": [
       "<matplotlib.image.AxesImage at 0x7fdc6a518a10>"
      ]
     },
     "execution_count": 6,
     "metadata": {},
     "output_type": "execute_result"
    },
    {
     "data": {
      "image/png": "[encoded data removed]",
      "text/plain": [
       "<Figure size 720x144 with 1 Axes>"
      ]
     },
     "metadata": {
      "needs_background": "light"
     },
     "output_type": "display_data"
    }
   ],
   "source": [
    "import matplotlib.pyplot as plt\n",
    "plt.figure(figsize=(10,2))\n",
    "image = img_cnv\n",
    "plt.imshow(np.array(image).reshape(28,28), cmap=plt.cm.gray)"
   ]
  },
  {
   "cell_type": "markdown",
   "id": "1c5eecc0",
   "metadata": {
    "papermill": {
     "duration": 0.007099,
     "end_time": "2022-08-25T11:28:15.393703",
     "exception": false,
     "start_time": "2022-08-25T11:28:15.386604",
     "status": "completed"
    },
    "tags": []
   },
   "source": [
    "#### Data Check\n",
    "View the image array data created "
   ]
  },
  {
   "cell_type": "code",
   "execution_count": 7,
   "id": "59e68df1",
   "metadata": {
    "execution": {
     "iopub.execute_input": "2022-08-25T11:28:15.411592Z",
     "iopub.status.busy": "2022-08-25T11:28:15.410687Z",
     "iopub.status.idle": "2022-08-25T11:28:15.419083Z",
     "shell.execute_reply": "2022-08-25T11:28:15.417874Z"
    },
    "papermill": {
     "duration": 0.020249,
     "end_time": "2022-08-25T11:28:15.421568",
     "exception": false,
     "start_time": "2022-08-25T11:28:15.401319",
     "status": "completed"
    },
    "tags": []
   },
   "outputs": [
    {
     "data": {
      "text/plain": [
       "array([['0', '0', '0', ..., '0', '0', '0'],\n",
       "       ['1_road732', '181', '185', ..., '107', '119', '110'],\n",
       "       ['2_road732', '100', '115', ..., '84', '103', '93'],\n",
       "       ...,\n",
       "       ['1_road620', '105', '98', ..., '90', '88', '86'],\n",
       "       ['1_road701', '68', '67', ..., '63', '63', '63'],\n",
       "       ['2_road701', '68', '68', ..., '72', '72', '74']], dtype='<U21')"
      ]
     },
     "execution_count": 7,
     "metadata": {},
     "output_type": "execute_result"
    }
   ],
   "source": [
    "img_data"
   ]
  },
  {
   "cell_type": "markdown",
   "id": "9131d2ff",
   "metadata": {
    "papermill": {
     "duration": 0.007354,
     "end_time": "2022-08-25T11:28:15.436555",
     "exception": false,
     "start_time": "2022-08-25T11:28:15.429201",
     "status": "completed"
    },
    "tags": []
   },
   "source": [
    "#### Data Analysis\n",
    "* Initially, we are trying to identify the speed limits provided on the images. \n",
    "* This would mean, no action being taken on images associated to types CrossWalk, Traffic Light and, Stop Signals.\n",
    "* It would be easy for us to segregate the image type as the earlier cropped, resized and discoloured images which were stored in separate folders.\n",
    "\n",
    "#### Further Action\n",
    "* Get list of images which are classified as speed limit images.\n",
    "* Move images array data into a data frame.\n",
    "* Filter image data frame to extract just the speed limit signal data\n",
    "* Impute a new column with the speed limit numbers found on the image. This column would be used as the Response Variable for our prediction.\n",
    "* Determine why Logistic regression model is suitable for the data.\n",
    "* We will predict the characters of the images by defining the speed limit numbers."
   ]
  },
  {
   "cell_type": "code",
   "execution_count": 8,
   "id": "c0a601a9",
   "metadata": {
    "execution": {
     "iopub.execute_input": "2022-08-25T11:28:15.454900Z",
     "iopub.status.busy": "2022-08-25T11:28:15.453946Z",
     "iopub.status.idle": "2022-08-25T11:28:24.803275Z",
     "shell.execute_reply": "2022-08-25T11:28:24.802333Z"
    },
    "papermill": {
     "duration": 9.361345,
     "end_time": "2022-08-25T11:28:24.805627",
     "exception": false,
     "start_time": "2022-08-25T11:28:15.444282",
     "status": "completed"
    },
    "tags": []
   },
   "outputs": [
    {
     "name": "stderr",
     "output_type": "stream",
     "text": [
      "/opt/conda/lib/python3.7/site-packages/pandas/core/frame.py:3641: SettingWithCopyWarning: \n",
      "A value is trying to be set on a copy of a slice from a DataFrame.\n",
      "Try using .loc[row_indexer,col_indexer] = value instead\n",
      "\n",
      "See the caveats in the documentation: https://pandas.pydata.org/pandas-docs/stable/user_guide/indexing.html#returning-a-view-versus-a-copy\n",
      "  self[k1] = value[k2]\n"
     ]
    },
    {
     "data": {
      "text/html": [
       "<div>\n",
       "<style scoped>\n",
       "    .dataframe tbody tr th:only-of-type {\n",
       "        vertical-align: middle;\n",
       "    }\n",
       "\n",
       "    .dataframe tbody tr th {\n",
       "        vertical-align: top;\n",
       "    }\n",
       "\n",
       "    .dataframe thead th {\n",
       "        text-align: right;\n",
       "    }\n",
       "</style>\n",
       "<table border=\"1\" class=\"dataframe\">\n",
       "  <thead>\n",
       "    <tr style=\"text-align: right;\">\n",
       "      <th></th>\n",
       "      <th>filename</th>\n",
       "      <th>pixel0</th>\n",
       "      <th>pixel1</th>\n",
       "      <th>pixel2</th>\n",
       "      <th>pixel3</th>\n",
       "      <th>pixel4</th>\n",
       "      <th>pixel5</th>\n",
       "      <th>pixel6</th>\n",
       "      <th>pixel7</th>\n",
       "      <th>pixel8</th>\n",
       "      <th>...</th>\n",
       "      <th>pixel774</th>\n",
       "      <th>pixel775</th>\n",
       "      <th>pixel776</th>\n",
       "      <th>pixel777</th>\n",
       "      <th>pixel778</th>\n",
       "      <th>pixel779</th>\n",
       "      <th>pixel780</th>\n",
       "      <th>pixel781</th>\n",
       "      <th>pixel782</th>\n",
       "      <th>pixel783</th>\n",
       "    </tr>\n",
       "  </thead>\n",
       "  <tbody>\n",
       "    <tr>\n",
       "      <th>1</th>\n",
       "      <td>1_road732</td>\n",
       "      <td>181</td>\n",
       "      <td>185</td>\n",
       "      <td>182</td>\n",
       "      <td>184</td>\n",
       "      <td>185</td>\n",
       "      <td>183</td>\n",
       "      <td>182</td>\n",
       "      <td>192</td>\n",
       "      <td>169</td>\n",
       "      <td>...</td>\n",
       "      <td>193</td>\n",
       "      <td>181</td>\n",
       "      <td>133</td>\n",
       "      <td>86</td>\n",
       "      <td>114</td>\n",
       "      <td>138</td>\n",
       "      <td>108</td>\n",
       "      <td>107</td>\n",
       "      <td>119</td>\n",
       "      <td>110</td>\n",
       "    </tr>\n",
       "    <tr>\n",
       "      <th>2</th>\n",
       "      <td>2_road732</td>\n",
       "      <td>100</td>\n",
       "      <td>115</td>\n",
       "      <td>123</td>\n",
       "      <td>94</td>\n",
       "      <td>108</td>\n",
       "      <td>105</td>\n",
       "      <td>80</td>\n",
       "      <td>73</td>\n",
       "      <td>102</td>\n",
       "      <td>...</td>\n",
       "      <td>215</td>\n",
       "      <td>122</td>\n",
       "      <td>87</td>\n",
       "      <td>84</td>\n",
       "      <td>89</td>\n",
       "      <td>100</td>\n",
       "      <td>89</td>\n",
       "      <td>84</td>\n",
       "      <td>103</td>\n",
       "      <td>93</td>\n",
       "    </tr>\n",
       "    <tr>\n",
       "      <th>3</th>\n",
       "      <td>1_road518</td>\n",
       "      <td>164</td>\n",
       "      <td>161</td>\n",
       "      <td>157</td>\n",
       "      <td>158</td>\n",
       "      <td>159</td>\n",
       "      <td>172</td>\n",
       "      <td>117</td>\n",
       "      <td>53</td>\n",
       "      <td>67</td>\n",
       "      <td>...</td>\n",
       "      <td>127</td>\n",
       "      <td>148</td>\n",
       "      <td>173</td>\n",
       "      <td>181</td>\n",
       "      <td>158</td>\n",
       "      <td>146</td>\n",
       "      <td>150</td>\n",
       "      <td>152</td>\n",
       "      <td>153</td>\n",
       "      <td>153</td>\n",
       "    </tr>\n",
       "    <tr>\n",
       "      <th>4</th>\n",
       "      <td>1_road717</td>\n",
       "      <td>81</td>\n",
       "      <td>80</td>\n",
       "      <td>77</td>\n",
       "      <td>71</td>\n",
       "      <td>68</td>\n",
       "      <td>67</td>\n",
       "      <td>68</td>\n",
       "      <td>71</td>\n",
       "      <td>83</td>\n",
       "      <td>...</td>\n",
       "      <td>89</td>\n",
       "      <td>82</td>\n",
       "      <td>78</td>\n",
       "      <td>78</td>\n",
       "      <td>83</td>\n",
       "      <td>84</td>\n",
       "      <td>83</td>\n",
       "      <td>81</td>\n",
       "      <td>82</td>\n",
       "      <td>83</td>\n",
       "    </tr>\n",
       "    <tr>\n",
       "      <th>5</th>\n",
       "      <td>2_road717</td>\n",
       "      <td>71</td>\n",
       "      <td>73</td>\n",
       "      <td>75</td>\n",
       "      <td>75</td>\n",
       "      <td>72</td>\n",
       "      <td>71</td>\n",
       "      <td>72</td>\n",
       "      <td>72</td>\n",
       "      <td>65</td>\n",
       "      <td>...</td>\n",
       "      <td>92</td>\n",
       "      <td>90</td>\n",
       "      <td>95</td>\n",
       "      <td>107</td>\n",
       "      <td>105</td>\n",
       "      <td>93</td>\n",
       "      <td>78</td>\n",
       "      <td>72</td>\n",
       "      <td>73</td>\n",
       "      <td>77</td>\n",
       "    </tr>\n",
       "  </tbody>\n",
       "</table>\n",
       "<p>5 rows × 785 columns</p>\n",
       "</div>"
      ],
      "text/plain": [
       "    filename  pixel0  pixel1  pixel2  pixel3  pixel4  pixel5  pixel6  pixel7  \\\n",
       "1  1_road732     181     185     182     184     185     183     182     192   \n",
       "2  2_road732     100     115     123      94     108     105      80      73   \n",
       "3  1_road518     164     161     157     158     159     172     117      53   \n",
       "4  1_road717      81      80      77      71      68      67      68      71   \n",
       "5  2_road717      71      73      75      75      72      71      72      72   \n",
       "\n",
       "   pixel8  ...  pixel774  pixel775  pixel776  pixel777  pixel778  pixel779  \\\n",
       "1     169  ...       193       181       133        86       114       138   \n",
       "2     102  ...       215       122        87        84        89       100   \n",
       "3      67  ...       127       148       173       181       158       146   \n",
       "4      83  ...        89        82        78        78        83        84   \n",
       "5      65  ...        92        90        95       107       105        93   \n",
       "\n",
       "   pixel780  pixel781  pixel782  pixel783  \n",
       "1       108       107       119       110  \n",
       "2        89        84       103        93  \n",
       "3       150       152       153       153  \n",
       "4        83        81        82        83  \n",
       "5        78        72        73        77  \n",
       "\n",
       "[5 rows x 785 columns]"
      ]
     },
     "execution_count": 8,
     "metadata": {},
     "output_type": "execute_result"
    }
   ],
   "source": [
    "# Initialise list of files\n",
    "list_of_files = []\n",
    "\n",
    "# SpeedLimit files are stored in folder by name of same signal type\n",
    "# We know the output directory\n",
    "# Loop each directory to find the speed limit files and log the filenames into a list\n",
    "for _, subdirs, _ in os.walk(img_crop_path_out):\n",
    "    for subdir in subdirs:\n",
    "        if (subdir.upper().startswith(\"SPEED\")):\n",
    "            for _,_,filenames in os.walk(img_crop_path_out + subdir):\n",
    "                for file in filenames:\n",
    "                    if (file.endswith(\".png\")):\n",
    "                        list_of_files.append(file.rstrip('.png'))\n",
    "            \n",
    "# Create column headers\n",
    "pixel_columns = [('pixel' + str(count)) for count in range(784)]\n",
    "pixel_columns.insert(0, 'filename')\n",
    "\n",
    "# Create Dataframe out of image data\n",
    "df_img = pd.DataFrame(img_data, columns = pixel_columns)\n",
    "\n",
    "# Filter Dataframe such that it only has images for speed limit\n",
    "df_img_speed = df_img[df_img['filename'].map(lambda x: x).isin(list_of_files)]\n",
    "\n",
    "# Convert the pixel values to int\n",
    "df_img_speed[df_img_speed.columns[1:785]] = df_img_speed[df_img_speed.columns[1:785]].astype(int)\n",
    "\n",
    "df_img_speed[:5]"
   ]
  },
  {
   "cell_type": "markdown",
   "id": "00d93e7f",
   "metadata": {
    "papermill": {
     "duration": 0.007742,
     "end_time": "2022-08-25T11:28:24.821528",
     "exception": false,
     "start_time": "2022-08-25T11:28:24.813786",
     "status": "completed"
    },
    "tags": []
   },
   "source": [
    "#### Data Analysis\n",
    "* Now that we have data frame with just the speed limits, we find ourselves with data with numbers in the images\n",
    "* Our plan is to predict the number on the images \n",
    "* This would mean our dataframe should have a column indicating the limit number\n",
    "\n",
    "#### Further Action\n",
    "* Impute a new column with the speed limit numbers found on the image. This column would be used as the Response Variable for our prediction."
   ]
  },
  {
   "cell_type": "code",
   "execution_count": 9,
   "id": "6f3cd173",
   "metadata": {
    "execution": {
     "iopub.execute_input": "2022-08-25T11:28:24.840623Z",
     "iopub.status.busy": "2022-08-25T11:28:24.839357Z",
     "iopub.status.idle": "2022-08-25T11:28:24.960154Z",
     "shell.execute_reply": "2022-08-25T11:28:24.959321Z"
    },
    "papermill": {
     "duration": 0.133345,
     "end_time": "2022-08-25T11:28:24.963025",
     "exception": false,
     "start_time": "2022-08-25T11:28:24.829680",
     "status": "completed"
    },
    "tags": []
   },
   "outputs": [
    {
     "data": {
      "text/html": [
       "<div>\n",
       "<style scoped>\n",
       "    .dataframe tbody tr th:only-of-type {\n",
       "        vertical-align: middle;\n",
       "    }\n",
       "\n",
       "    .dataframe tbody tr th {\n",
       "        vertical-align: top;\n",
       "    }\n",
       "\n",
       "    .dataframe thead th {\n",
       "        text-align: right;\n",
       "    }\n",
       "</style>\n",
       "<table border=\"1\" class=\"dataframe\">\n",
       "  <thead>\n",
       "    <tr style=\"text-align: right;\">\n",
       "      <th></th>\n",
       "      <th>filename</th>\n",
       "      <th>pixel0</th>\n",
       "      <th>pixel1</th>\n",
       "      <th>pixel2</th>\n",
       "      <th>pixel3</th>\n",
       "      <th>pixel4</th>\n",
       "      <th>pixel5</th>\n",
       "      <th>pixel6</th>\n",
       "      <th>pixel7</th>\n",
       "      <th>pixel8</th>\n",
       "      <th>...</th>\n",
       "      <th>pixel775</th>\n",
       "      <th>pixel776</th>\n",
       "      <th>pixel777</th>\n",
       "      <th>pixel778</th>\n",
       "      <th>pixel779</th>\n",
       "      <th>pixel780</th>\n",
       "      <th>pixel781</th>\n",
       "      <th>pixel782</th>\n",
       "      <th>pixel783</th>\n",
       "      <th>speed</th>\n",
       "    </tr>\n",
       "  </thead>\n",
       "  <tbody>\n",
       "    <tr>\n",
       "      <th>0</th>\n",
       "      <td>1_road732</td>\n",
       "      <td>181</td>\n",
       "      <td>185</td>\n",
       "      <td>182</td>\n",
       "      <td>184</td>\n",
       "      <td>185</td>\n",
       "      <td>183</td>\n",
       "      <td>182</td>\n",
       "      <td>192</td>\n",
       "      <td>169</td>\n",
       "      <td>...</td>\n",
       "      <td>181</td>\n",
       "      <td>133</td>\n",
       "      <td>86</td>\n",
       "      <td>114</td>\n",
       "      <td>138</td>\n",
       "      <td>108</td>\n",
       "      <td>107</td>\n",
       "      <td>119</td>\n",
       "      <td>110</td>\n",
       "      <td>120</td>\n",
       "    </tr>\n",
       "    <tr>\n",
       "      <th>1</th>\n",
       "      <td>2_road732</td>\n",
       "      <td>100</td>\n",
       "      <td>115</td>\n",
       "      <td>123</td>\n",
       "      <td>94</td>\n",
       "      <td>108</td>\n",
       "      <td>105</td>\n",
       "      <td>80</td>\n",
       "      <td>73</td>\n",
       "      <td>102</td>\n",
       "      <td>...</td>\n",
       "      <td>122</td>\n",
       "      <td>87</td>\n",
       "      <td>84</td>\n",
       "      <td>89</td>\n",
       "      <td>100</td>\n",
       "      <td>89</td>\n",
       "      <td>84</td>\n",
       "      <td>103</td>\n",
       "      <td>93</td>\n",
       "      <td>100</td>\n",
       "    </tr>\n",
       "    <tr>\n",
       "      <th>2</th>\n",
       "      <td>1_road518</td>\n",
       "      <td>164</td>\n",
       "      <td>161</td>\n",
       "      <td>157</td>\n",
       "      <td>158</td>\n",
       "      <td>159</td>\n",
       "      <td>172</td>\n",
       "      <td>117</td>\n",
       "      <td>53</td>\n",
       "      <td>67</td>\n",
       "      <td>...</td>\n",
       "      <td>148</td>\n",
       "      <td>173</td>\n",
       "      <td>181</td>\n",
       "      <td>158</td>\n",
       "      <td>146</td>\n",
       "      <td>150</td>\n",
       "      <td>152</td>\n",
       "      <td>153</td>\n",
       "      <td>153</td>\n",
       "      <td>80</td>\n",
       "    </tr>\n",
       "    <tr>\n",
       "      <th>3</th>\n",
       "      <td>1_road717</td>\n",
       "      <td>81</td>\n",
       "      <td>80</td>\n",
       "      <td>77</td>\n",
       "      <td>71</td>\n",
       "      <td>68</td>\n",
       "      <td>67</td>\n",
       "      <td>68</td>\n",
       "      <td>71</td>\n",
       "      <td>83</td>\n",
       "      <td>...</td>\n",
       "      <td>82</td>\n",
       "      <td>78</td>\n",
       "      <td>78</td>\n",
       "      <td>83</td>\n",
       "      <td>84</td>\n",
       "      <td>83</td>\n",
       "      <td>81</td>\n",
       "      <td>82</td>\n",
       "      <td>83</td>\n",
       "      <td>100</td>\n",
       "    </tr>\n",
       "    <tr>\n",
       "      <th>4</th>\n",
       "      <td>2_road717</td>\n",
       "      <td>71</td>\n",
       "      <td>73</td>\n",
       "      <td>75</td>\n",
       "      <td>75</td>\n",
       "      <td>72</td>\n",
       "      <td>71</td>\n",
       "      <td>72</td>\n",
       "      <td>72</td>\n",
       "      <td>65</td>\n",
       "      <td>...</td>\n",
       "      <td>90</td>\n",
       "      <td>95</td>\n",
       "      <td>107</td>\n",
       "      <td>105</td>\n",
       "      <td>93</td>\n",
       "      <td>78</td>\n",
       "      <td>72</td>\n",
       "      <td>73</td>\n",
       "      <td>77</td>\n",
       "      <td>120</td>\n",
       "    </tr>\n",
       "    <tr>\n",
       "      <th>...</th>\n",
       "      <td>...</td>\n",
       "      <td>...</td>\n",
       "      <td>...</td>\n",
       "      <td>...</td>\n",
       "      <td>...</td>\n",
       "      <td>...</td>\n",
       "      <td>...</td>\n",
       "      <td>...</td>\n",
       "      <td>...</td>\n",
       "      <td>...</td>\n",
       "      <td>...</td>\n",
       "      <td>...</td>\n",
       "      <td>...</td>\n",
       "      <td>...</td>\n",
       "      <td>...</td>\n",
       "      <td>...</td>\n",
       "      <td>...</td>\n",
       "      <td>...</td>\n",
       "      <td>...</td>\n",
       "      <td>...</td>\n",
       "      <td>...</td>\n",
       "    </tr>\n",
       "    <tr>\n",
       "      <th>778</th>\n",
       "      <td>2_road227</td>\n",
       "      <td>92</td>\n",
       "      <td>88</td>\n",
       "      <td>80</td>\n",
       "      <td>71</td>\n",
       "      <td>68</td>\n",
       "      <td>69</td>\n",
       "      <td>77</td>\n",
       "      <td>96</td>\n",
       "      <td>118</td>\n",
       "      <td>...</td>\n",
       "      <td>77</td>\n",
       "      <td>81</td>\n",
       "      <td>82</td>\n",
       "      <td>78</td>\n",
       "      <td>72</td>\n",
       "      <td>70</td>\n",
       "      <td>69</td>\n",
       "      <td>70</td>\n",
       "      <td>70</td>\n",
       "      <td>100</td>\n",
       "    </tr>\n",
       "    <tr>\n",
       "      <th>779</th>\n",
       "      <td>1_road660</td>\n",
       "      <td>80</td>\n",
       "      <td>85</td>\n",
       "      <td>86</td>\n",
       "      <td>88</td>\n",
       "      <td>85</td>\n",
       "      <td>89</td>\n",
       "      <td>87</td>\n",
       "      <td>88</td>\n",
       "      <td>124</td>\n",
       "      <td>...</td>\n",
       "      <td>215</td>\n",
       "      <td>167</td>\n",
       "      <td>101</td>\n",
       "      <td>72</td>\n",
       "      <td>80</td>\n",
       "      <td>87</td>\n",
       "      <td>87</td>\n",
       "      <td>67</td>\n",
       "      <td>74</td>\n",
       "      <td>40</td>\n",
       "    </tr>\n",
       "    <tr>\n",
       "      <th>780</th>\n",
       "      <td>1_road620</td>\n",
       "      <td>105</td>\n",
       "      <td>98</td>\n",
       "      <td>98</td>\n",
       "      <td>99</td>\n",
       "      <td>94</td>\n",
       "      <td>95</td>\n",
       "      <td>93</td>\n",
       "      <td>88</td>\n",
       "      <td>86</td>\n",
       "      <td>...</td>\n",
       "      <td>97</td>\n",
       "      <td>102</td>\n",
       "      <td>99</td>\n",
       "      <td>95</td>\n",
       "      <td>88</td>\n",
       "      <td>89</td>\n",
       "      <td>90</td>\n",
       "      <td>88</td>\n",
       "      <td>86</td>\n",
       "      <td>50</td>\n",
       "    </tr>\n",
       "    <tr>\n",
       "      <th>781</th>\n",
       "      <td>1_road701</td>\n",
       "      <td>68</td>\n",
       "      <td>67</td>\n",
       "      <td>63</td>\n",
       "      <td>65</td>\n",
       "      <td>68</td>\n",
       "      <td>67</td>\n",
       "      <td>66</td>\n",
       "      <td>59</td>\n",
       "      <td>141</td>\n",
       "      <td>...</td>\n",
       "      <td>94</td>\n",
       "      <td>88</td>\n",
       "      <td>72</td>\n",
       "      <td>62</td>\n",
       "      <td>63</td>\n",
       "      <td>63</td>\n",
       "      <td>63</td>\n",
       "      <td>63</td>\n",
       "      <td>63</td>\n",
       "      <td>120</td>\n",
       "    </tr>\n",
       "    <tr>\n",
       "      <th>782</th>\n",
       "      <td>2_road701</td>\n",
       "      <td>68</td>\n",
       "      <td>68</td>\n",
       "      <td>68</td>\n",
       "      <td>67</td>\n",
       "      <td>67</td>\n",
       "      <td>59</td>\n",
       "      <td>119</td>\n",
       "      <td>216</td>\n",
       "      <td>116</td>\n",
       "      <td>...</td>\n",
       "      <td>88</td>\n",
       "      <td>83</td>\n",
       "      <td>76</td>\n",
       "      <td>69</td>\n",
       "      <td>70</td>\n",
       "      <td>72</td>\n",
       "      <td>72</td>\n",
       "      <td>72</td>\n",
       "      <td>74</td>\n",
       "      <td>100</td>\n",
       "    </tr>\n",
       "  </tbody>\n",
       "</table>\n",
       "<p>783 rows × 786 columns</p>\n",
       "</div>"
      ],
      "text/plain": [
       "      filename  pixel0  pixel1  pixel2  pixel3  pixel4  pixel5  pixel6  \\\n",
       "0    1_road732     181     185     182     184     185     183     182   \n",
       "1    2_road732     100     115     123      94     108     105      80   \n",
       "2    1_road518     164     161     157     158     159     172     117   \n",
       "3    1_road717      81      80      77      71      68      67      68   \n",
       "4    2_road717      71      73      75      75      72      71      72   \n",
       "..         ...     ...     ...     ...     ...     ...     ...     ...   \n",
       "778  2_road227      92      88      80      71      68      69      77   \n",
       "779  1_road660      80      85      86      88      85      89      87   \n",
       "780  1_road620     105      98      98      99      94      95      93   \n",
       "781  1_road701      68      67      63      65      68      67      66   \n",
       "782  2_road701      68      68      68      67      67      59     119   \n",
       "\n",
       "     pixel7  pixel8  ...  pixel775  pixel776  pixel777  pixel778  pixel779  \\\n",
       "0       192     169  ...       181       133        86       114       138   \n",
       "1        73     102  ...       122        87        84        89       100   \n",
       "2        53      67  ...       148       173       181       158       146   \n",
       "3        71      83  ...        82        78        78        83        84   \n",
       "4        72      65  ...        90        95       107       105        93   \n",
       "..      ...     ...  ...       ...       ...       ...       ...       ...   \n",
       "778      96     118  ...        77        81        82        78        72   \n",
       "779      88     124  ...       215       167       101        72        80   \n",
       "780      88      86  ...        97       102        99        95        88   \n",
       "781      59     141  ...        94        88        72        62        63   \n",
       "782     216     116  ...        88        83        76        69        70   \n",
       "\n",
       "     pixel780  pixel781  pixel782  pixel783  speed  \n",
       "0         108       107       119       110    120  \n",
       "1          89        84       103        93    100  \n",
       "2         150       152       153       153     80  \n",
       "3          83        81        82        83    100  \n",
       "4          78        72        73        77    120  \n",
       "..        ...       ...       ...       ...    ...  \n",
       "778        70        69        70        70    100  \n",
       "779        87        87        67        74     40  \n",
       "780        89        90        88        86     50  \n",
       "781        63        63        63        63    120  \n",
       "782        72        72        72        74    100  \n",
       "\n",
       "[783 rows x 786 columns]"
      ]
     },
     "execution_count": 9,
     "metadata": {},
     "output_type": "execute_result"
    }
   ],
   "source": [
    "# Load csv file which has speed values indicated on the signal\n",
    "data_speed = pd.read_csv('/kaggle/input/road-sign-detection-speed-limit/speedlimit.csv',header = None, names = ['Id','speed'])\n",
    "\n",
    "# Join the dataframes to process further\n",
    "speedlimit_data = pd.merge(df_img_speed, data_speed, left_on='filename', right_on='Id', how='left').drop('Id', axis=1)\n",
    "speedlimit_data"
   ]
  },
  {
   "cell_type": "markdown",
   "id": "331d8660",
   "metadata": {
    "papermill": {
     "duration": 0.008786,
     "end_time": "2022-08-25T11:28:24.980841",
     "exception": false,
     "start_time": "2022-08-25T11:28:24.972055",
     "status": "completed"
    },
    "tags": []
   },
   "source": [
    "### Prediction Model\n",
    "Our data is basically a set of images with varying types of signals which are found on the roadways. The objective is to identify/classify these signals into different types. One such type is the speed limit, this can be sub-classified based on speeds indicated on the image. The speed limit values are not continuous and can be considered as a classification For Example, 5, 20, 40, 80 or 100. \n",
    "Logistic regression is a model for classification and the data for speed limit fits the profile for the classification of speeds depicted on these images.\n",
    "\n",
    "#### Further Action\n",
    "* Set target variable\n",
    "* Split the images into Test and Train data at a 40 to 60 split respectively."
   ]
  },
  {
   "cell_type": "code",
   "execution_count": 10,
   "id": "95bc94c3",
   "metadata": {
    "execution": {
     "iopub.execute_input": "2022-08-25T11:28:25.000546Z",
     "iopub.status.busy": "2022-08-25T11:28:24.999654Z",
     "iopub.status.idle": "2022-08-25T11:28:26.385548Z",
     "shell.execute_reply": "2022-08-25T11:28:26.384209Z"
    },
    "papermill": {
     "duration": 1.399057,
     "end_time": "2022-08-25T11:28:26.388700",
     "exception": false,
     "start_time": "2022-08-25T11:28:24.989643",
     "status": "completed"
    },
    "tags": []
   },
   "outputs": [],
   "source": [
    "from sklearn.model_selection import train_test_split\n",
    "from sklearn.linear_model import LogisticRegression\n",
    "from sklearn.metrics import confusion_matrix, classification_report\n",
    "\n",
    "# Get Explanatory variables\n",
    "x = speedlimit_data[speedlimit_data.columns[1:785]]\n",
    "\n",
    "# Get the Response variable\n",
    "y = speedlimit_data[['speed']]\n",
    "\n",
    "# Split the data\n",
    "Ex_train,Ex_test,Res_train,Res_test = train_test_split(x,y,train_size=.6,random_state=0)"
   ]
  },
  {
   "cell_type": "markdown",
   "id": "5a5fc5b9",
   "metadata": {
    "papermill": {
     "duration": 0.007827,
     "end_time": "2022-08-25T11:28:26.405129",
     "exception": false,
     "start_time": "2022-08-25T11:28:26.397302",
     "status": "completed"
    },
    "tags": []
   },
   "source": [
    "#### Data Analysis\n",
    "* With 783 images, we are using 60% of data to fit our model\n",
    "\n",
    "#### Further Action\n",
    "* Select the classifier\n",
    "* Fit the data using the classifier model\n",
    "* Predict the characters of the images by defining the speed limit numbers."
   ]
  },
  {
   "cell_type": "code",
   "execution_count": 11,
   "id": "3cf11066",
   "metadata": {
    "execution": {
     "iopub.execute_input": "2022-08-25T11:28:26.423518Z",
     "iopub.status.busy": "2022-08-25T11:28:26.422995Z",
     "iopub.status.idle": "2022-08-25T11:28:27.723138Z",
     "shell.execute_reply": "2022-08-25T11:28:27.721370Z"
    },
    "papermill": {
     "duration": 1.317327,
     "end_time": "2022-08-25T11:28:27.730515",
     "exception": false,
     "start_time": "2022-08-25T11:28:26.413188",
     "status": "completed"
    },
    "tags": []
   },
   "outputs": [
    {
     "name": "stderr",
     "output_type": "stream",
     "text": [
      "/opt/conda/lib/python3.7/site-packages/sklearn/utils/validation.py:993: DataConversionWarning: A column-vector y was passed when a 1d array was expected. Please change the shape of y to (n_samples, ), for example using ravel().\n",
      "  y = column_or_1d(y, warn=True)\n",
      "/opt/conda/lib/python3.7/site-packages/sklearn/linear_model/_logistic.py:818: ConvergenceWarning: lbfgs failed to converge (status=1):\n",
      "STOP: TOTAL NO. of ITERATIONS REACHED LIMIT.\n",
      "\n",
      "Increase the number of iterations (max_iter) or scale the data as shown in:\n",
      "    https://scikit-learn.org/stable/modules/preprocessing.html\n",
      "Please also refer to the documentation for alternative solver options:\n",
      "    https://scikit-learn.org/stable/modules/linear_model.html#logistic-regression\n",
      "  extra_warning_msg=_LOGISTIC_SOLVER_CONVERGENCE_MSG,\n"
     ]
    },
    {
     "data": {
      "text/plain": [
       "array([ 50,  40,  40,  40,  80, 100,  40, 120,  40,  60,  40,  60,  90,\n",
       "        40,  40,  80,  60,  40,  40,  40, 100,  80,  80,  40,  90,  80,\n",
       "        60,  40, 100, 100,  80, 100, 120, 100,  40,  40, 120,  80, 120,\n",
       "        50, 100,  80, 100,  40, 120,  80,  40, 100,  80,  40,  80,  90,\n",
       "        80,  80,  40,  40,  70,  90, 100, 120, 100,  40,  90,  80,  40,\n",
       "        40, 100,  60, 100,  40,   5,  90,  40,  60, 100, 120, 100,  40,\n",
       "        80,  50,  80,  30, 100,  80,  90,  50,  80,   5, 120,  90,  40,\n",
       "        90,   5,  40,  40, 100,  80,  40,  70, 120, 100,  70, 100,  60,\n",
       "        40,  80,  70, 100, 100,  80,  40, 100,  80,  40,  40, 120,  40,\n",
       "        40,  80, 120, 100, 120,  40,  80,  60,  90,  80,  80,  40, 100,\n",
       "        70,  80,  40,  40,  30, 100,  80,  40,  80,  40,  80,  80, 100,\n",
       "       120,  40,  50,  90, 120,  80, 100,  80,  80,  60, 120,  80,  40,\n",
       "        40,  80,  80,  40,  60,  40, 120, 120,  80,  80,  40,  70,  80,\n",
       "       100,  40,  90,  50,  40,  30,  90,  90,  40, 100,  30,  50,  40,\n",
       "        50,  40, 120,  40,  90,   5,  80,  80, 120,  40,  30,  60,  90,\n",
       "        90,   5,  30, 100,  40,  40, 100, 120, 100,  80,  90,  90, 100,\n",
       "        80,  80,  40,  60,  40, 120,  60, 120,  70,  40,  40,  40,  40,\n",
       "        30, 120,  30, 120,  80,  40,  40, 100,  40,  40, 120,  40,   5,\n",
       "        40, 120, 120,  40,  40, 100,  60,  40,   5,  40,  50,  50, 100,\n",
       "       100,  40,  80,  80,  80,  40, 100, 120,  40, 100,  50, 100,   5,\n",
       "        40,  80,  40,  40, 120, 100,  40,  80, 100,  40,  40, 100,  40,\n",
       "        40,   5,  90,  80,  40, 100,  80,  40,  30,  90,  50,  60,  30,\n",
       "       120, 120,  40,  90, 100,  60,   5,  40, 100,  80,   5,  80,  40,\n",
       "       100,  40,  80, 120,  90,  80,  40,  40,  80,  40, 100,  80, 120,\n",
       "       100,  80])"
      ]
     },
     "execution_count": 11,
     "metadata": {},
     "output_type": "execute_result"
    }
   ],
   "source": [
    "# Set logistic regression model\n",
    "logR = LogisticRegression(solver = 'lbfgs', max_iter = 100)\n",
    "\n",
    "# Fit data using the model\n",
    "logR.fit(Ex_train,Res_train)\n",
    "\n",
    "# Predict test response based on test explanatory data\n",
    "Res_predict = logR.predict(Ex_test)\n",
    "Res_predict"
   ]
  },
  {
   "cell_type": "markdown",
   "id": "449f7478",
   "metadata": {
    "papermill": {
     "duration": 0.021629,
     "end_time": "2022-08-25T11:28:27.795147",
     "exception": false,
     "start_time": "2022-08-25T11:28:27.773518",
     "status": "completed"
    },
    "tags": []
   },
   "source": [
    "Once the data has been fitted and predicted, we have to analyse the score of prediction"
   ]
  },
  {
   "cell_type": "code",
   "execution_count": 12,
   "id": "44ad9c98",
   "metadata": {
    "execution": {
     "iopub.execute_input": "2022-08-25T11:28:27.834171Z",
     "iopub.status.busy": "2022-08-25T11:28:27.833783Z",
     "iopub.status.idle": "2022-08-25T11:28:27.853451Z",
     "shell.execute_reply": "2022-08-25T11:28:27.852199Z"
    },
    "papermill": {
     "duration": 0.041786,
     "end_time": "2022-08-25T11:28:27.858820",
     "exception": false,
     "start_time": "2022-08-25T11:28:27.817034",
     "status": "completed"
    },
    "tags": []
   },
   "outputs": [
    {
     "name": "stdout",
     "output_type": "stream",
     "text": [
      "0.8885350318471338\n"
     ]
    }
   ],
   "source": [
    "Test_Score = logR.score(Ex_test,Res_test)\n",
    "print(Test_Score)"
   ]
  },
  {
   "cell_type": "markdown",
   "id": "0e60237c",
   "metadata": {
    "papermill": {
     "duration": 0.020528,
     "end_time": "2022-08-25T11:28:27.901084",
     "exception": false,
     "start_time": "2022-08-25T11:28:27.880556",
     "status": "completed"
    },
    "tags": []
   },
   "source": [
    "Evaluate model using Confusion Matrix"
   ]
  },
  {
   "cell_type": "code",
   "execution_count": 13,
   "id": "c009fb87",
   "metadata": {
    "execution": {
     "iopub.execute_input": "2022-08-25T11:28:27.946819Z",
     "iopub.status.busy": "2022-08-25T11:28:27.946125Z",
     "iopub.status.idle": "2022-08-25T11:28:27.968017Z",
     "shell.execute_reply": "2022-08-25T11:28:27.966442Z"
    },
    "papermill": {
     "duration": 0.047947,
     "end_time": "2022-08-25T11:28:27.971169",
     "exception": false,
     "start_time": "2022-08-25T11:28:27.923222",
     "status": "completed"
    },
    "tags": []
   },
   "outputs": [
    {
     "data": {
      "text/plain": [
       "array([[11,  0,  0,  0,  0,  0,  0,  1,  1,  0,  0],\n",
       "       [ 0,  9,  1,  1,  0,  1,  0,  0,  0,  0,  1],\n",
       "       [ 0,  0, 82,  1,  1,  0,  1,  0,  0,  0,  1],\n",
       "       [ 0,  0,  0,  8,  0,  0,  1,  0,  0,  0,  0],\n",
       "       [ 0,  0,  1,  0, 12,  0,  0,  1,  0,  0,  0],\n",
       "       [ 0,  1,  2,  0,  0,  5,  0,  0,  0,  0,  0],\n",
       "       [ 0,  0,  4,  1,  0,  0, 56,  1,  1,  0,  0],\n",
       "       [ 0,  0,  0,  0,  2,  1,  0, 20,  0,  0,  0],\n",
       "       [ 0,  0,  3,  1,  1,  0,  1,  0, 46,  0,  1],\n",
       "       [ 0,  0,  0,  0,  0,  0,  1,  0,  0,  0,  0],\n",
       "       [ 0,  0,  0,  0,  0,  0,  0,  0,  1,  0, 30]])"
      ]
     },
     "execution_count": 13,
     "metadata": {},
     "output_type": "execute_result"
    }
   ],
   "source": [
    "confusion_matrix(Res_test, Res_predict)"
   ]
  },
  {
   "cell_type": "markdown",
   "id": "8387513b",
   "metadata": {
    "papermill": {
     "duration": 0.008582,
     "end_time": "2022-08-25T11:28:27.989150",
     "exception": false,
     "start_time": "2022-08-25T11:28:27.980568",
     "status": "completed"
    },
    "tags": []
   },
   "source": [
    "Display Predictions"
   ]
  },
  {
   "cell_type": "code",
   "execution_count": 14,
   "id": "f5ebe32c",
   "metadata": {
    "execution": {
     "iopub.execute_input": "2022-08-25T11:28:28.013090Z",
     "iopub.status.busy": "2022-08-25T11:28:28.012266Z",
     "iopub.status.idle": "2022-08-25T11:28:28.567115Z",
     "shell.execute_reply": "2022-08-25T11:28:28.565698Z"
    },
    "papermill": {
     "duration": 0.571661,
     "end_time": "2022-08-25T11:28:28.570045",
     "exception": false,
     "start_time": "2022-08-25T11:28:27.998384",
     "status": "completed"
    },
    "tags": []
   },
   "outputs": [
    {
     "data": {
      "image/png": "[encoded data removed]",
      "text/plain": [
       "<Figure size 720x144 with 5 Axes>"
      ]
     },
     "metadata": {
      "needs_background": "light"
     },
     "output_type": "display_data"
    }
   ],
   "source": [
    "images_and_predictions = list(zip(speedlimit_data,logR.predict(x)))\n",
    "\n",
    "plt.figure(figsize=(10,2))\n",
    "for idx in range(5):\n",
    "    image = x.iloc[idx,:]\n",
    "    prediction = logR.predict(x)[idx]\n",
    "    plt.subplot(1,5,idx+1)\n",
    "    plt.axis(\"off\")\n",
    "    plt.imshow(np.array(image).reshape(28, 28), cmap=plt.cm.gray_r, interpolation='nearest')\n",
    "    plt.title('Prediction: %i' % int(prediction))\n",
    "plt.show()"
   ]
  },
  {
   "cell_type": "markdown",
   "id": "f25bc6cd",
   "metadata": {
    "papermill": {
     "duration": 0.009213,
     "end_time": "2022-08-25T11:28:28.588528",
     "exception": false,
     "start_time": "2022-08-25T11:28:28.579315",
     "status": "completed"
    },
    "tags": []
   },
   "source": [
    "Display incorrectly predicted speed limit signals"
   ]
  },
  {
   "cell_type": "code",
   "execution_count": 15,
   "id": "068b6b1b",
   "metadata": {
    "execution": {
     "iopub.execute_input": "2022-08-25T11:28:28.609367Z",
     "iopub.status.busy": "2022-08-25T11:28:28.608648Z",
     "iopub.status.idle": "2022-08-25T11:28:28.616890Z",
     "shell.execute_reply": "2022-08-25T11:28:28.615569Z"
    },
    "papermill": {
     "duration": 0.021762,
     "end_time": "2022-08-25T11:28:28.619361",
     "exception": false,
     "start_time": "2022-08-25T11:28:28.597599",
     "status": "completed"
    },
    "tags": []
   },
   "outputs": [
    {
     "data": {
      "text/plain": [
       "[0]"
      ]
     },
     "execution_count": 15,
     "metadata": {},
     "output_type": "execute_result"
    }
   ],
   "source": [
    "idx = 0\n",
    "misclassifiedIndexes = []\n",
    "for actual, predicted in zip(Res_test, Res_predict):\n",
    "    if actual != predicted: \n",
    "        misclassifiedIndexes.append(idx)\n",
    "    idx +=1\n",
    "\n",
    "misclassifiedIndexes"
   ]
  }
 ],
 "metadata": {
  "kernelspec": {
   "display_name": "Python 3",
   "language": "python",
   "name": "python3"
  },
  "language_info": {
   "codemirror_mode": {
    "name": "ipython",
    "version": 3
   },
   "file_extension": ".py",
   "mimetype": "text/x-python",
   "name": "python",
   "nbconvert_exporter": "python",
   "pygments_lexer": "ipython3",
   "version": "3.7.12"
  },
  "papermill": {
   "default_parameters": {},
   "duration": 109.188317,
   "end_time": "2022-08-25T11:28:29.452158",
   "environment_variables": {},
   "exception": null,
   "input_path": "__notebook__.ipynb",
   "output_path": "__notebook__.ipynb",
   "parameters": {},
   "start_time": "2022-08-25T11:26:40.263841",
   "version": "2.3.4"
  }
 },
 "nbformat": 4,
 "nbformat_minor": 5
}
